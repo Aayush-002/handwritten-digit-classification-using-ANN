{
 "cells": [
  {
   "cell_type": "code",
   "execution_count": 28,
   "metadata": {},
   "outputs": [],
   "source": [
    "import tensorflow\n",
    "from tensorflow import keras\n",
    "from tensorflow.keras import Sequential\n",
    "from tensorflow.keras.layers import Dense,Flatten"
   ]
  },
  {
   "cell_type": "code",
   "execution_count": 29,
   "metadata": {},
   "outputs": [],
   "source": [
    "(X_train,y_train),(X_test,y_test) = keras.datasets.mnist.load_data()"
   ]
  },
  {
   "cell_type": "code",
   "execution_count": 31,
   "metadata": {},
   "outputs": [
    {
     "data": {
      "text/plain": [
       "(60000, 28, 28)"
      ]
     },
     "execution_count": 31,
     "metadata": {},
     "output_type": "execute_result"
    }
   ],
   "source": [
    "X_train.shape"
   ]
  },
  {
   "cell_type": "code",
   "execution_count": 32,
   "metadata": {},
   "outputs": [
    {
     "data": {
      "text/plain": [
       "(28, 28)"
      ]
     },
     "execution_count": 32,
     "metadata": {},
     "output_type": "execute_result"
    }
   ],
   "source": [
    "X_train[2].shape"
   ]
  },
  {
   "cell_type": "code",
   "execution_count": 34,
   "metadata": {},
   "outputs": [
    {
     "data": {
      "text/plain": [
       "(10000, 28, 28)"
      ]
     },
     "execution_count": 34,
     "metadata": {},
     "output_type": "execute_result"
    }
   ],
   "source": [
    "X_test.shape"
   ]
  },
  {
   "cell_type": "code",
   "execution_count": 35,
   "metadata": {},
   "outputs": [
    {
     "data": {
      "text/plain": [
       "array([5, 0, 4, ..., 5, 6, 8], dtype=uint8)"
      ]
     },
     "execution_count": 35,
     "metadata": {},
     "output_type": "execute_result"
    }
   ],
   "source": [
    "y_train"
   ]
  },
  {
   "cell_type": "markdown",
   "metadata": {},
   "source": [
    "Convert pixel to image"
   ]
  },
  {
   "cell_type": "code",
   "execution_count": 36,
   "metadata": {},
   "outputs": [
    {
     "name": "stdout",
     "output_type": "stream",
     "text": [
      "3\n"
     ]
    },
    {
     "data": {
      "image/png": "[encoded data removed]",
      "text/plain": [
       "<Figure size 640x480 with 1 Axes>"
      ]
     },
     "metadata": {},
     "output_type": "display_data"
    }
   ],
   "source": [
    "import matplotlib.pyplot as plt\n",
    "plt.imshow(X_train[10000])\n",
    "print(y_train[10000])\n"
   ]
  },
  {
   "cell_type": "markdown",
   "metadata": {},
   "source": [
    "The values of pixel are between 0 and 255 . This should be brought to similar range .this can be done by dividing the pixel values by 255."
   ]
  },
  {
   "cell_type": "code",
   "execution_count": 68,
   "metadata": {},
   "outputs": [],
   "source": [
    "X_train = X_train/255\n",
    "X_test =  X_test/255"
   ]
  },
  {
   "cell_type": "markdown",
   "metadata": {},
   "source": [
    "Building model using ANN"
   ]
  },
  {
   "cell_type": "code",
   "execution_count": 110,
   "metadata": {},
   "outputs": [],
   "source": [
    "model = Sequential()\n",
    "model.add(Flatten(input_shape = (28,28)))\n",
    "model.add(Dense(128,activation = 'relu'))\n",
    "model.add(Dense(32,activation = 'relu'))\n",
    "model.add(Dense(10,activation = 'softmax'))"
   ]
  },
  {
   "cell_type": "code",
   "execution_count": 111,
   "metadata": {},
   "outputs": [
    {
     "name": "stdout",
     "output_type": "stream",
     "text": [
      "Model: \"sequential_7\"\n",
      "_________________________________________________________________\n",
      " Layer (type)                Output Shape              Param #   \n",
      "=================================================================\n",
      " flatten_7 (Flatten)         (None, 784)               0         \n",
      "                                                                 \n",
      " dense_17 (Dense)            (None, 128)               100480    \n",
      "                                                                 \n",
      " dense_18 (Dense)            (None, 32)                4128      \n",
      "                                                                 \n",
      " dense_19 (Dense)            (None, 10)                330       \n",
      "                                                                 \n",
      "=================================================================\n",
      "Total params: 104938 (409.91 KB)\n",
      "Trainable params: 104938 (409.91 KB)\n",
      "Non-trainable params: 0 (0.00 Byte)\n",
      "_________________________________________________________________\n"
     ]
    }
   ],
   "source": [
    "model.summary()"
   ]
  },
  {
   "cell_type": "code",
   "execution_count": 112,
   "metadata": {},
   "outputs": [],
   "source": [
    "model.compile(loss = 'sparse_categorical_crossentropy',optimizer = 'Adam',metrics = ['accuracy'])"
   ]
  },
  {
   "cell_type": "code",
   "execution_count": 113,
   "metadata": {},
   "outputs": [
    {
     "name": "stdout",
     "output_type": "stream",
     "text": [
      "Epoch 1/50\n",
      "1500/1500 [==============================] - 3s 2ms/step - loss: 1.0137 - accuracy: 0.6733 - val_loss: 0.5645 - val_accuracy: 0.8302\n",
      "Epoch 2/50\n",
      "1500/1500 [==============================] - 2s 1ms/step - loss: 0.4983 - accuracy: 0.8487 - val_loss: 0.3936 - val_accuracy: 0.8853\n",
      "Epoch 3/50\n",
      "1500/1500 [==============================] - 2s 2ms/step - loss: 0.3900 - accuracy: 0.8861 - val_loss: 0.3365 - val_accuracy: 0.9027\n",
      "Epoch 4/50\n",
      "1500/1500 [==============================] - 2s 2ms/step - loss: 0.3477 - accuracy: 0.8994 - val_loss: 0.3199 - val_accuracy: 0.9078\n",
      "Epoch 5/50\n",
      "1500/1500 [==============================] - 3s 2ms/step - loss: 0.3212 - accuracy: 0.9071 - val_loss: 0.2908 - val_accuracy: 0.9161\n",
      "Epoch 6/50\n",
      "1500/1500 [==============================] - 3s 2ms/step - loss: 0.2994 - accuracy: 0.9130 - val_loss: 0.2751 - val_accuracy: 0.9202\n",
      "Epoch 7/50\n",
      "1500/1500 [==============================] - 3s 2ms/step - loss: 0.2770 - accuracy: 0.9194 - val_loss: 0.2581 - val_accuracy: 0.9238\n",
      "Epoch 8/50\n",
      "1500/1500 [==============================] - 3s 2ms/step - loss: 0.2559 - accuracy: 0.9256 - val_loss: 0.2367 - val_accuracy: 0.9314\n",
      "Epoch 9/50\n",
      "1500/1500 [==============================] - 3s 2ms/step - loss: 0.2357 - accuracy: 0.9309 - val_loss: 0.2261 - val_accuracy: 0.9327\n",
      "Epoch 10/50\n",
      "1500/1500 [==============================] - 3s 2ms/step - loss: 0.2181 - accuracy: 0.9364 - val_loss: 0.2103 - val_accuracy: 0.9377\n",
      "Epoch 11/50\n",
      "1500/1500 [==============================] - 3s 2ms/step - loss: 0.2028 - accuracy: 0.9402 - val_loss: 0.1972 - val_accuracy: 0.9423\n",
      "Epoch 12/50\n",
      "1500/1500 [==============================] - 3s 2ms/step - loss: 0.1887 - accuracy: 0.9443 - val_loss: 0.1847 - val_accuracy: 0.9476\n",
      "Epoch 13/50\n",
      "1500/1500 [==============================] - 3s 2ms/step - loss: 0.1755 - accuracy: 0.9486 - val_loss: 0.1758 - val_accuracy: 0.9498\n",
      "Epoch 14/50\n",
      "1500/1500 [==============================] - 3s 2ms/step - loss: 0.1657 - accuracy: 0.9511 - val_loss: 0.1646 - val_accuracy: 0.9538\n",
      "Epoch 15/50\n",
      "1500/1500 [==============================] - 4s 2ms/step - loss: 0.1549 - accuracy: 0.9543 - val_loss: 0.1564 - val_accuracy: 0.9558\n",
      "Epoch 16/50\n",
      "1500/1500 [==============================] - 4s 2ms/step - loss: 0.1474 - accuracy: 0.9561 - val_loss: 0.1525 - val_accuracy: 0.9564\n",
      "Epoch 17/50\n",
      "1500/1500 [==============================] - 3s 2ms/step - loss: 0.1392 - accuracy: 0.9585 - val_loss: 0.1460 - val_accuracy: 0.9572\n",
      "Epoch 18/50\n",
      "1500/1500 [==============================] - 2s 2ms/step - loss: 0.1327 - accuracy: 0.9604 - val_loss: 0.1447 - val_accuracy: 0.9578\n",
      "Epoch 19/50\n",
      "1500/1500 [==============================] - 2s 2ms/step - loss: 0.1255 - accuracy: 0.9630 - val_loss: 0.1374 - val_accuracy: 0.9599\n",
      "Epoch 20/50\n",
      "1500/1500 [==============================] - 2s 2ms/step - loss: 0.1185 - accuracy: 0.9647 - val_loss: 0.1384 - val_accuracy: 0.9588\n",
      "Epoch 21/50\n",
      "1500/1500 [==============================] - 2s 2ms/step - loss: 0.1137 - accuracy: 0.9666 - val_loss: 0.1290 - val_accuracy: 0.9626\n",
      "Epoch 22/50\n",
      "1500/1500 [==============================] - 2s 2ms/step - loss: 0.1081 - accuracy: 0.9679 - val_loss: 0.1319 - val_accuracy: 0.9613\n",
      "Epoch 23/50\n",
      "1500/1500 [==============================] - 3s 2ms/step - loss: 0.1028 - accuracy: 0.9699 - val_loss: 0.1222 - val_accuracy: 0.9643\n",
      "Epoch 24/50\n",
      "1500/1500 [==============================] - 2s 2ms/step - loss: 0.0986 - accuracy: 0.9713 - val_loss: 0.1311 - val_accuracy: 0.9618\n",
      "Epoch 25/50\n",
      "1500/1500 [==============================] - 2s 2ms/step - loss: 0.0940 - accuracy: 0.9725 - val_loss: 0.1221 - val_accuracy: 0.9659\n",
      "Epoch 26/50\n",
      "1500/1500 [==============================] - 2s 1ms/step - loss: 0.0898 - accuracy: 0.9730 - val_loss: 0.1196 - val_accuracy: 0.9660\n",
      "Epoch 27/50\n",
      "1500/1500 [==============================] - 2s 1ms/step - loss: 0.0855 - accuracy: 0.9748 - val_loss: 0.1153 - val_accuracy: 0.9670\n",
      "Epoch 28/50\n",
      "1500/1500 [==============================] - 2s 1ms/step - loss: 0.0817 - accuracy: 0.9758 - val_loss: 0.1151 - val_accuracy: 0.9671\n",
      "Epoch 29/50\n",
      "1500/1500 [==============================] - 3s 2ms/step - loss: 0.0792 - accuracy: 0.9766 - val_loss: 0.1154 - val_accuracy: 0.9653\n",
      "Epoch 30/50\n",
      "1500/1500 [==============================] - 3s 2ms/step - loss: 0.0759 - accuracy: 0.9779 - val_loss: 0.1144 - val_accuracy: 0.9667\n",
      "Epoch 31/50\n",
      "1500/1500 [==============================] - 3s 2ms/step - loss: 0.0720 - accuracy: 0.9788 - val_loss: 0.1112 - val_accuracy: 0.9660\n",
      "Epoch 32/50\n",
      "1500/1500 [==============================] - 4s 3ms/step - loss: 0.0698 - accuracy: 0.9798 - val_loss: 0.1110 - val_accuracy: 0.9668\n",
      "Epoch 33/50\n",
      "1500/1500 [==============================] - 4s 3ms/step - loss: 0.0662 - accuracy: 0.9804 - val_loss: 0.1062 - val_accuracy: 0.9682\n",
      "Epoch 34/50\n",
      "1500/1500 [==============================] - 3s 2ms/step - loss: 0.0636 - accuracy: 0.9816 - val_loss: 0.1083 - val_accuracy: 0.9682\n",
      "Epoch 35/50\n",
      "1500/1500 [==============================] - 3s 2ms/step - loss: 0.0612 - accuracy: 0.9822 - val_loss: 0.1130 - val_accuracy: 0.9672\n",
      "Epoch 36/50\n",
      "1500/1500 [==============================] - 2s 2ms/step - loss: 0.0591 - accuracy: 0.9824 - val_loss: 0.1039 - val_accuracy: 0.9695\n",
      "Epoch 37/50\n",
      "1500/1500 [==============================] - 2s 2ms/step - loss: 0.0570 - accuracy: 0.9833 - val_loss: 0.1049 - val_accuracy: 0.9697\n",
      "Epoch 38/50\n",
      "1500/1500 [==============================] - 2s 1ms/step - loss: 0.0542 - accuracy: 0.9842 - val_loss: 0.1045 - val_accuracy: 0.9705\n",
      "Epoch 39/50\n",
      "1500/1500 [==============================] - 2s 1ms/step - loss: 0.0530 - accuracy: 0.9842 - val_loss: 0.1040 - val_accuracy: 0.9688\n",
      "Epoch 40/50\n",
      "1500/1500 [==============================] - 2s 2ms/step - loss: 0.0504 - accuracy: 0.9847 - val_loss: 0.1010 - val_accuracy: 0.9715\n",
      "Epoch 41/50\n",
      "1500/1500 [==============================] - 2s 1ms/step - loss: 0.0481 - accuracy: 0.9863 - val_loss: 0.1098 - val_accuracy: 0.9680\n",
      "Epoch 42/50\n",
      "1500/1500 [==============================] - 2s 1ms/step - loss: 0.0460 - accuracy: 0.9863 - val_loss: 0.1065 - val_accuracy: 0.9688\n",
      "Epoch 43/50\n",
      "1500/1500 [==============================] - 2s 2ms/step - loss: 0.0442 - accuracy: 0.9877 - val_loss: 0.1023 - val_accuracy: 0.9697\n",
      "Epoch 44/50\n",
      "1500/1500 [==============================] - 2s 1ms/step - loss: 0.0421 - accuracy: 0.9881 - val_loss: 0.1061 - val_accuracy: 0.9704\n",
      "Epoch 45/50\n",
      "1500/1500 [==============================] - 2s 2ms/step - loss: 0.0413 - accuracy: 0.9882 - val_loss: 0.0985 - val_accuracy: 0.9703\n",
      "Epoch 46/50\n",
      "1500/1500 [==============================] - 2s 2ms/step - loss: 0.0392 - accuracy: 0.9889 - val_loss: 0.1062 - val_accuracy: 0.9684\n",
      "Epoch 47/50\n",
      "1500/1500 [==============================] - 2s 1ms/step - loss: 0.0382 - accuracy: 0.9890 - val_loss: 0.1165 - val_accuracy: 0.9670\n",
      "Epoch 48/50\n",
      "1500/1500 [==============================] - 2s 1ms/step - loss: 0.0365 - accuracy: 0.9897 - val_loss: 0.1013 - val_accuracy: 0.9717\n",
      "Epoch 49/50\n",
      "1500/1500 [==============================] - 2s 1ms/step - loss: 0.0342 - accuracy: 0.9899 - val_loss: 0.1060 - val_accuracy: 0.9710\n",
      "Epoch 50/50\n",
      "1500/1500 [==============================] - 2s 2ms/step - loss: 0.0333 - accuracy: 0.9903 - val_loss: 0.1064 - val_accuracy: 0.9700\n"
     ]
    }
   ],
   "source": [
    "history = model.fit(X_train,y_train,epochs = 50,validation_split = 0.2)"
   ]
  },
  {
   "cell_type": "code",
   "execution_count": 114,
   "metadata": {},
   "outputs": [
    {
     "name": "stdout",
     "output_type": "stream",
     "text": [
      "313/313 [==============================] - 0s 928us/step\n"
     ]
    }
   ],
   "source": [
    "y_prob = model.predict(X_test)"
   ]
  },
  {
   "cell_type": "code",
   "execution_count": 115,
   "metadata": {},
   "outputs": [],
   "source": [
    "y_pred = y_prob.argmax(axis = 1)"
   ]
  },
  {
   "cell_type": "code",
   "execution_count": 96,
   "metadata": {},
   "outputs": [
    {
     "name": "stdout",
     "output_type": "stream",
     "text": [
      "2\n",
      "1\n",
      "0\n",
      "4\n",
      "1\n",
      "4\n",
      "9\n",
      "6\n",
      "9\n"
     ]
    }
   ],
   "source": [
    "for i in range(1,10):\n",
    "    print(y_pred[i])"
   ]
  },
  {
   "cell_type": "code",
   "execution_count": 117,
   "metadata": {},
   "outputs": [
    {
     "data": {
      "text/plain": [
       "0.9696"
      ]
     },
     "execution_count": 117,
     "metadata": {},
     "output_type": "execute_result"
    }
   ],
   "source": [
    "from sklearn.metrics import accuracy_score\n",
    "accuracy_score(y_test,y_pred)"
   ]
  },
  {
   "cell_type": "code",
   "execution_count": 118,
   "metadata": {},
   "outputs": [
    {
     "data": {
      "text/plain": [
       "[<matplotlib.lines.Line2D at 0x29a53c2e520>]"
      ]
     },
     "execution_count": 118,
     "metadata": {},
     "output_type": "execute_result"
    },
    {
     "data": {
      "image/png": "[encoded data removed]",
      "text/plain": [
       "<Figure size 640x480 with 1 Axes>"
      ]
     },
     "metadata": {},
     "output_type": "display_data"
    }
   ],
   "source": [
    "plt.plot(history.history['loss'])\n",
    "plt.plot(history.history['val_loss'])"
   ]
  },
  {
   "cell_type": "code",
   "execution_count": 119,
   "metadata": {},
   "outputs": [
    {
     "data": {
      "text/plain": [
       "[<matplotlib.lines.Line2D at 0x29a53cb1610>]"
      ]
     },
     "execution_count": 119,
     "metadata": {},
     "output_type": "execute_result"
    },
    {
     "data": {
      "image/png": "[encoded data removed]",
      "text/plain": [
       "<Figure size 640x480 with 1 Axes>"
      ]
     },
     "metadata": {},
     "output_type": "display_data"
    }
   ],
   "source": [
    "plt.plot(history.history['accuracy'])\n",
    "plt.plot(history.history['val_accuracy'])"
   ]
  },
  {
   "cell_type": "code",
   "execution_count": 122,
   "metadata": {},
   "outputs": [
    {
     "data": {
      "text/plain": [
       "<matplotlib.image.AxesImage at 0x29a53d7d2e0>"
      ]
     },
     "execution_count": 122,
     "metadata": {},
     "output_type": "execute_result"
    },
    {
     "data": {
      "image/png": "[encoded data removed]",
      "text/plain": [
       "<Figure size 640x480 with 1 Axes>"
      ]
     },
     "metadata": {},
     "output_type": "display_data"
    }
   ],
   "source": [
    "plt.imshow(X_test[2])"
   ]
  },
  {
   "cell_type": "code",
   "execution_count": 123,
   "metadata": {},
   "outputs": [
    {
     "name": "stdout",
     "output_type": "stream",
     "text": [
      "1/1 [==============================] - 0s 24ms/step\n"
     ]
    },
    {
     "data": {
      "text/plain": [
       "array([1], dtype=int64)"
      ]
     },
     "execution_count": 123,
     "metadata": {},
     "output_type": "execute_result"
    }
   ],
   "source": [
    "model.predict(X_test[2].reshape(1,28,28)).argmax(axis=1)"
   ]
  },
  {
   "cell_type": "code",
   "execution_count": null,
   "metadata": {},
   "outputs": [],
   "source": []
  },
  {
   "cell_type": "code",
   "execution_count": null,
   "metadata": {},
   "outputs": [],
   "source": []
  }
 ],
 "metadata": {
  "kernelspec": {
   "display_name": "Python 3",
   "language": "python",
   "name": "python3"
  },
  "language_info": {
   "codemirror_mode": {
    "name": "ipython",
    "version": 3
   },
   "file_extension": ".py",
   "mimetype": "text/x-python",
   "name": "python",
   "nbconvert_exporter": "python",
   "pygments_lexer": "ipython3",
   "version": "3.9.13"
  }
 },
 "nbformat": 4,
 "nbformat_minor": 2
}
